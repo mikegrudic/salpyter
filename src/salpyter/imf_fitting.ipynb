{
 "cells": [
  {
   "cell_type": "code",
   "execution_count": 15,
   "metadata": {},
   "outputs": [
    {
     "name": "stdout",
     "output_type": "stream",
     "text": [
      "Using matplotlib backend: tkagg\n",
      "%pylab is deprecated, use %matplotlib inline and import the required libraries.\n",
      "Populating the interactive namespace from numpy and matplotlib\n"
     ]
    },
    {
     "name": "stderr",
     "output_type": "stream",
     "text": [
      "/home/mgrudic/miniconda3/lib/python3.12/site-packages/IPython/core/magics/pylab.py:166: UserWarning: pylab import has clobbered these variables: ['mgrid', 'ndim']\n",
      "`%matplotlib` prevents importing * from pylab and numpy\n",
      "  warn(\"pylab import has clobbered these variables: %s\"  % clobbered +\n"
     ]
    }
   ],
   "source": [
    "%pylab\n",
    "\n",
    "from imf_components import (\n",
    "    imf_loglikelihood,\n",
    "    chabrier_smooth_imf,\n",
    "    chabrier_imf,\n",
    "    chabrier_smooth_default_params,\n",
    "    chabrier_default_params,\n",
    "    generate_samples_from_imf,\n",
    ")\n",
    "import emcee\n",
    "from multiprocessing import Pool\n",
    "\n",
    "# masses = np.load(\"/home/mgrudic/kroupa_m300_samples.npy\")[:10**5] #generate_samples_from_imf(10**6, chabrier_imf, (np.log10(0.2),0.55,-1,-1.3,np.log10(120.))) #np.load(\"/home/mgrudic/kroupa_m300_samples.npy\")[:10**4] #np.loadtxt(\"M2e4_R1_Z0.01_S0_A2_B0.1_I10000_Res271_n2_sol0.5_42/output/IMF.dat\")[:,1]\n",
    "# masses = generate_samples_from_imf(10**6, chabrier_imf, (np.log10(0.2),0.55,-1,-1.3,-np.inf, np.log10(120.)))\n",
    "\n",
    "# logm0, sigma, mbreak, alpha, mmax = params\n",
    "# masses = generate_samples_from_imf(10**4, chabrier_smooth_imf,chabrier_smooth_default_params)\n",
    "masses = np.loadtxt(\"M2e4_R1_Z0.01_S0_A2_B0.1_I10000_Res271_n2_sol0.5_42/output/IMF.dat\")[:, 1]\n",
    "# masses = masses[masses>0.1]\n",
    "p0 = list(chabrier_smooth_default_params)\n",
    "# p0[-2] = np.log10(masses.min()*0.5)\n",
    "# p0[-1]= np.log10(masses.max()*2.)\n",
    "\n",
    "from scipy.optimize import minimize\n",
    "\n",
    "\n",
    "def lossfunc(x):\n",
    "    return -imf_loglikelihood(x, masses, model=\"chabrier_smooth\")\n",
    "\n",
    "\n",
    "# plt.plot(np.log10(mgrid) , imf); plt.yscale('log')\n",
    "# plt.ylim(imf.max()/10**4,2*imf.max())\n",
    "# plt.show()"
   ]
  },
  {
   "cell_type": "code",
   "execution_count": 80,
   "metadata": {},
   "outputs": [
    {
     "name": "stdout",
     "output_type": "stream",
     "text": [
      "[-0.32667251 -0.89096981 -0.75695373]\n"
     ]
    }
   ],
   "source": [
    "p0 = list(chabrier_smooth_default_params)\n",
    "params = minimize(lossfunc, p0, method=\"Nelder-Mead\").x\n",
    "print(params)\n",
    "mgrid = np.logspace(-3, 3, 100001)\n",
    "logm = np.log10(mgrid)\n",
    "imf = chabrier_smooth_imf(logm, params)\n",
    "counts, bins = plt.hist(np.log10(masses), 31)[:2]\n",
    "plt.plot(np.log10(mgrid), imf * (bins.max() - bins.min()) / len(bins) * len(masses))\n",
    "plt.yscale(\"log\")\n",
    "# plt.yscale('log')"
   ]
  },
  {
   "cell_type": "code",
   "execution_count": 2,
   "metadata": {},
   "outputs": [
    {
     "name": "stdout",
     "output_type": "stream",
     "text": [
      "1547.449838346706\n",
      "252.99146700738856\n"
     ]
    },
    {
     "data": {
      "text/plain": [
       "<matplotlib.legend.Legend at 0x7efada75a0c0>"
      ]
     },
     "execution_count": 2,
     "metadata": {},
     "output_type": "execute_result"
    }
   ],
   "source": [
    "p0 = list(chabrier_smooth_default_params)\n",
    "params = minimize(lossfunc, p0, method=\"Nelder-Mead\").x\n",
    "likelihood = minimize(lossfunc, p0, method=\"Nelder-Mead\").x\n",
    "params1 = np.concatenate([params, [2.5, -3.0, 3.0, -3]])\n",
    "\n",
    "\n",
    "def lossfunc2(x):\n",
    "    return -imf_loglikelihood(x, masses, model=\"chabrier_smooth_lognormal\")\n",
    "\n",
    "\n",
    "# print(lossfunc2(params))\n",
    "params2 = minimize(lossfunc2, params1, method=\"Nelder-Mead\").x\n",
    "\n",
    "print(lossfunc2(params1))\n",
    "\n",
    "l2 = lossfunc2(params2)\n",
    "params_null = np.concatenate([params, [np.log10(masses.max()), -30.0, 3.0, -3]])\n",
    "l1 = lossfunc2(params_null)\n",
    "likelihood_ratio = l1 - l2\n",
    "AIC1 = 2 * 3 - 2 * l1\n",
    "AIC2 = 2 * 7 - 2 * l2\n",
    "delta_AIC = AIC2 - AIC1\n",
    "print(delta_AIC)\n",
    "mgrid = np.logspace(-3, 4, 100001)\n",
    "logm = np.log10(mgrid)\n",
    "from imf_components import chabrier_smooth_lognormal_peak_imf\n",
    "\n",
    "counts, bins = plt.hist(np.log10(masses), 31, histtype=\"step\", edgecolor=\"black\")[:2]\n",
    "imf_to_bins = (bins.max() - bins.min()) / len(bins) * len(masses)\n",
    "imf = chabrier_smooth_lognormal_peak_imf(logm, params_null)\n",
    "plt.plot(np.log10(mgrid), imf * imf_to_bins, color=\"black\", ls=\"dotted\", label=\"Chabrier-like\")\n",
    "plt.yscale(\"log\")\n",
    "imf = chabrier_smooth_lognormal_peak_imf(logm, params2)\n",
    "plt.plot(np.log10(mgrid), imf * imf_to_bins, ls=\"dashed\", color=\"red\", label=\"Chabrier-like + Lognormal\")\n",
    "plt.yscale(\"log\")\n",
    "\n",
    "plt.xlabel(r\"$\\log M_{\\rm \\star}$\")\n",
    "plt.ylabel(r\"$N$\")\n",
    "plt.ylim(0.1, 5e2)\n",
    "plt.xlim(-2, 3.5)\n",
    "plt.legend(loc=1)\n",
    "# print(likelihood_ratio)"
   ]
  },
  {
   "cell_type": "code",
   "execution_count": 17,
   "metadata": {},
   "outputs": [
    {
     "name": "stdout",
     "output_type": "stream",
     "text": [
      "[-0.30240007 -0.81797266 -0.73101858  2.06648386 -5.10399964  3.08024542\n",
      " -1.97915605]\n"
     ]
    }
   ],
   "source": [
    "print(params2)\n",
    "\n",
    "\n",
    "def lnprob(x):\n",
    "    params0 = x[:-4]\n",
    "    log_mmax1, log_fpeak, logm0_peak, logsigma_peak = x[-4:]\n",
    "    if log_mmax1 > np.log10(masses.max()):\n",
    "        return -np.inf\n",
    "    if np.abs(log_fpeak) > 50.0:\n",
    "        return -np.inf\n",
    "    if logm0_peak < 0.0 or logm0_peak > 4.0:\n",
    "        return -np.inf\n",
    "    if logsigma_peak > 0.0 or logsigma_peak < -4.0:\n",
    "        return -np.inf\n",
    "\n",
    "    return imf_loglikelihood(x, masses, model=\"chabrier_smooth_lognormal\")\n",
    "\n",
    "\n",
    "p0 = params2  # list(chabrier_smooth_default_params)\n",
    "# p0 = minimize(lossfunc, p0,method=\"Nelder-Mead\").x\n",
    "\n",
    "nwalkers, ndim = 100, 7\n",
    "p0 = np.array(p0) * np.exp(\n",
    "    0.01 * np.random.normal(size=(nwalkers, ndim))\n",
    ")  # + 0.01*np.random.normal(size=(nwalkers,ndim))\n",
    "from multiprocessing import Pool\n",
    "\n",
    "sampler = emcee.EnsembleSampler(nwalkers, ndim, lnprob)  # , pool=Pool())\n",
    "state = sampler.run_mcmc(p0, 1000)\n",
    "sampler.reset()\n",
    "sampler.run_mcmc(state, 10000)\n",
    "flat_samples = sampler.get_chain(flat=True, thin=1000)\n",
    "np.save(\"chabrier_lognormal_samples.npy\", flat_samples)\n",
    "# fig = corner.corner(flat_samples) #, labels=labels#, truths=[m_true, b_true, np.log(f_true)]"
   ]
  },
  {
   "cell_type": "code",
   "execution_count": 18,
   "metadata": {},
   "outputs": [
    {
     "name": "stdout",
     "output_type": "stream",
     "text": [
      "[-0.32667251 -0.89096981 -0.75695373]\n"
     ]
    }
   ],
   "source": [
    "def lnprob(x):\n",
    "    return imf_loglikelihood(x, masses, model=\"chabrier_smooth\")\n",
    "\n",
    "\n",
    "p0 = list(chabrier_smooth_default_params)\n",
    "p0 = minimize(lossfunc, p0, method=\"Nelder-Mead\").x\n",
    "print(p0)\n",
    "\n",
    "nwalkers, ndim = 100, 3\n",
    "p0 = np.array(p0) * np.exp(\n",
    "    0.01 * np.random.normal(size=(nwalkers, ndim))\n",
    ")  # + 0.01*np.random.normal(size=(nwalkers,ndim))\n",
    "from multiprocessing import Pool\n",
    "\n",
    "sampler = emcee.EnsembleSampler(nwalkers, ndim, lnprob)  # , pool=Pool())\n",
    "state = sampler.run_mcmc(p0, 1000)\n",
    "sampler.reset()\n",
    "sampler.run_mcmc(state, 10000)\n",
    "flat_samples = sampler.get_chain(flat=True, thin=1000)\n",
    "np.save(\"chabrier_samples.npy\", flat_samples)"
   ]
  },
  {
   "cell_type": "code",
   "execution_count": 85,
   "metadata": {},
   "outputs": [
    {
     "name": "stderr",
     "output_type": "stream",
     "text": [
      "WARNING:root:Too few points to create valid contours\n"
     ]
    }
   ],
   "source": [
    "# sampler.get_autocorr_time()\n",
    "# import corner\n",
    "\n",
    "# plt.hist(flat_samples[:,-])\n",
    "# plt.xlabel(r\"$\\log M_{\\rm peak}$\")\n",
    "# flat_samples.shape\n",
    "# fig = corner.corner(flat_samples,labels=[r\"$\\log m_{\\rm c}$\", r)  #, labels=labels#, truths=[m_true, b_true, np.log(f_true)]"
   ]
  },
  {
   "cell_type": "code",
   "execution_count": 23,
   "metadata": {},
   "outputs": [
    {
     "name": "stdout",
     "output_type": "stream",
     "text": [
      "971.4594950485255\n",
      "-76.86728754736737 -959.6007944115908 -917.1671506379071\n"
     ]
    }
   ],
   "source": [
    "plt.clf()\n",
    "p0 = list(chabrier_smooth_default_params)\n",
    "params = minimize(lossfunc, p0, method=\"Nelder-Mead\").x\n",
    "likelihood = minimize(lossfunc, p0, method=\"Nelder-Mead\").x\n",
    "params1 = np.concatenate([params, [2.5, -3.0, 3.0, -3]])\n",
    "\n",
    "\n",
    "def lossfunc2(x):\n",
    "    return -imf_loglikelihood(x, masses, model=\"chabrier_smooth_lognormal\")\n",
    "\n",
    "\n",
    "# print(lossfunc2(params))\n",
    "params2 = minimize(lossfunc2, params1, method=\"Nelder-Mead\").x\n",
    "\n",
    "print(lossfunc2(params1))\n",
    "\n",
    "l2 = -lossfunc2(params2)\n",
    "params_null = np.concatenate([params, [np.log10(masses.max()), -30.0, 3.0, -3]])\n",
    "l1 = -lossfunc2(params_null)\n",
    "likelihood_ratio = l1 - l2\n",
    "AIC1 = 2 * 3 - 2 * l1\n",
    "AIC2 = 2 * 7 - 2 * l2\n",
    "delta_AIC = AIC2 - AIC1\n",
    "print(delta_AIC, l1, l2)\n",
    "mgrid = np.logspace(-3, 4, 100001)\n",
    "logm = np.log10(mgrid)\n",
    "from imf_components import chabrier_smooth_lognormal_peak_imf\n",
    "\n",
    "counts, bins = plt.hist(np.log10(masses), 31, histtype=\"step\", edgecolor=\"black\")[:2]\n",
    "imf_to_bins = (bins.max() - bins.min()) / len(bins) * len(masses)\n",
    "\n",
    "flat_samples = np.load(\"chabrier_samples.npy\")\n",
    "for i, p in enumerate(flat_samples[-100:]):\n",
    "    imf = chabrier_smooth_imf(logm, (p if i > 0 else np.median(flat_samples, axis=0)))\n",
    "    plt.plot(\n",
    "        np.log10(mgrid),\n",
    "        imf * imf_to_bins,\n",
    "        color=\"grey\",\n",
    "        label=(\"Chabrier\" if i == 0 else None),\n",
    "        lw=(0.2 if i > 0 else 1),\n",
    "        alpha=(0.05 if i > 0 else 1),\n",
    "    )\n",
    "    plt.yscale(\"log\")\n",
    "\n",
    "flat_samples = np.load(\"chabrier_lognormal_samples.npy\")\n",
    "for i, p in enumerate(flat_samples[-100:]):\n",
    "    imf = chabrier_smooth_lognormal_peak_imf(logm, (p if i > 0 else np.median(flat_samples, axis=0)))\n",
    "    plt.plot(\n",
    "        np.log10(mgrid),\n",
    "        imf * imf_to_bins,\n",
    "        color=\"red\",\n",
    "        label=(\"Chabrier + Lognormal VMS\" if i == 0 else None),\n",
    "        lw=(0.2 if i > 0 else 1),\n",
    "        alpha=(0.05 if i > 0 else 1),\n",
    "    )\n",
    "    plt.yscale(\"log\")\n",
    "\n",
    "# imf = chabrier_smooth_lognormal_peak_imf(logm, params_null)\n",
    "# plt.plot(np.log10(mgrid) , imf * imf_to_bins,color='black',ls='dotted',label=\"Chabrier-like\"); plt.yscale('log')\n",
    "\n",
    "plt.xlabel(r\"$\\log M_{\\rm \\star}$\")\n",
    "plt.ylabel(r\"$N$\")\n",
    "plt.ylim(0.5, 5e2)\n",
    "plt.xlim(-2, 3.5)\n",
    "plt.legend(loc=1)\n",
    "plt.savefig(\"IMF_chabrier_lognormal.png\", dpi=300, bbox_inches=\"tight\")"
   ]
  },
  {
   "cell_type": "code",
   "execution_count": 25,
   "metadata": {},
   "outputs": [
    {
     "data": {
      "text/plain": [
       "(array([  2.,   3.,  33., 111., 210., 276., 210., 102.,  43.,  10.]),\n",
       " array([0.29603477, 0.31575078, 0.33546679, 0.35518279, 0.3748988 ,\n",
       "        0.3946148 , 0.41433081, 0.43404682, 0.45376282, 0.47347883,\n",
       "        0.49319483]),\n",
       " <BarContainer object of 10 artists>)"
      ]
     },
     "execution_count": 25,
     "metadata": {},
     "output_type": "execute_result"
    }
   ],
   "source": [
    "# plt.close()\n",
    "plt.hist(np.e ** flat_samples[:, 1])"
   ]
  },
  {
   "cell_type": "code",
   "execution_count": null,
   "metadata": {},
   "outputs": [],
   "source": []
  }
 ],
 "metadata": {
  "kernelspec": {
   "display_name": "base",
   "language": "python",
   "name": "python3"
  },
  "language_info": {
   "codemirror_mode": {
    "name": "ipython",
    "version": 3
   },
   "file_extension": ".py",
   "mimetype": "text/x-python",
   "name": "python",
   "nbconvert_exporter": "python",
   "pygments_lexer": "ipython3",
   "version": "3.12.1"
  }
 },
 "nbformat": 4,
 "nbformat_minor": 2
}
